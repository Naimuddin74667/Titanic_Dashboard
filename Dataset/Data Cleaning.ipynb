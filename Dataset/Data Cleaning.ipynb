{
 "cells": [
  {
   "cell_type": "markdown",
   "id": "2cd12e54-a36c-4c3f-844b-37677626ea68",
   "metadata": {},
   "source": [
    "## Importing Libraries and Dataset"
   ]
  },
  {
   "cell_type": "code",
   "execution_count": 1,
   "id": "4d322ea0-a39b-4f3f-85e9-5664a2f448c0",
   "metadata": {},
   "outputs": [],
   "source": [
    "# Importing important libraries\n",
    "import pandas as pd\n",
    "import numpy as np\n",
    "import seaborn as sns\n",
    "import matplotlib.pyplot as plt\n",
    "import warnings\n",
    "\n",
    "# Magic functions\n",
    "warnings.filterwarnings('ignore')\n",
    "%matplotlib inline"
   ]
  },
  {
   "cell_type": "code",
   "execution_count": 2,
   "id": "06edf5f1-cc0d-4039-8249-2c44289a74fb",
   "metadata": {},
   "outputs": [
    {
     "data": {
      "text/html": [
       "<div>\n",
       "<style scoped>\n",
       "    .dataframe tbody tr th:only-of-type {\n",
       "        vertical-align: middle;\n",
       "    }\n",
       "\n",
       "    .dataframe tbody tr th {\n",
       "        vertical-align: top;\n",
       "    }\n",
       "\n",
       "    .dataframe thead th {\n",
       "        text-align: right;\n",
       "    }\n",
       "</style>\n",
       "<table border=\"1\" class=\"dataframe\">\n",
       "  <thead>\n",
       "    <tr style=\"text-align: right;\">\n",
       "      <th></th>\n",
       "      <th>PassengerId</th>\n",
       "      <th>Survived</th>\n",
       "      <th>Pclass</th>\n",
       "      <th>Name</th>\n",
       "      <th>Sex</th>\n",
       "      <th>Age</th>\n",
       "      <th>SibSp</th>\n",
       "      <th>Parch</th>\n",
       "      <th>Ticket</th>\n",
       "      <th>Fare</th>\n",
       "      <th>Cabin</th>\n",
       "      <th>Embarked</th>\n",
       "    </tr>\n",
       "  </thead>\n",
       "  <tbody>\n",
       "    <tr>\n",
       "      <th>0</th>\n",
       "      <td>1</td>\n",
       "      <td>0</td>\n",
       "      <td>3</td>\n",
       "      <td>Braund, Mr. Owen Harris</td>\n",
       "      <td>male</td>\n",
       "      <td>22.0</td>\n",
       "      <td>1</td>\n",
       "      <td>0</td>\n",
       "      <td>A/5 21171</td>\n",
       "      <td>7.2500</td>\n",
       "      <td>NaN</td>\n",
       "      <td>S</td>\n",
       "    </tr>\n",
       "    <tr>\n",
       "      <th>1</th>\n",
       "      <td>2</td>\n",
       "      <td>1</td>\n",
       "      <td>1</td>\n",
       "      <td>Cumings, Mrs. John Bradley (Florence Briggs Th...</td>\n",
       "      <td>female</td>\n",
       "      <td>38.0</td>\n",
       "      <td>1</td>\n",
       "      <td>0</td>\n",
       "      <td>PC 17599</td>\n",
       "      <td>71.2833</td>\n",
       "      <td>C85</td>\n",
       "      <td>C</td>\n",
       "    </tr>\n",
       "    <tr>\n",
       "      <th>2</th>\n",
       "      <td>3</td>\n",
       "      <td>1</td>\n",
       "      <td>3</td>\n",
       "      <td>Heikkinen, Miss. Laina</td>\n",
       "      <td>female</td>\n",
       "      <td>26.0</td>\n",
       "      <td>0</td>\n",
       "      <td>0</td>\n",
       "      <td>STON/O2. 3101282</td>\n",
       "      <td>7.9250</td>\n",
       "      <td>NaN</td>\n",
       "      <td>S</td>\n",
       "    </tr>\n",
       "    <tr>\n",
       "      <th>3</th>\n",
       "      <td>4</td>\n",
       "      <td>1</td>\n",
       "      <td>1</td>\n",
       "      <td>Futrelle, Mrs. Jacques Heath (Lily May Peel)</td>\n",
       "      <td>female</td>\n",
       "      <td>35.0</td>\n",
       "      <td>1</td>\n",
       "      <td>0</td>\n",
       "      <td>113803</td>\n",
       "      <td>53.1000</td>\n",
       "      <td>C123</td>\n",
       "      <td>S</td>\n",
       "    </tr>\n",
       "    <tr>\n",
       "      <th>4</th>\n",
       "      <td>5</td>\n",
       "      <td>0</td>\n",
       "      <td>3</td>\n",
       "      <td>Allen, Mr. William Henry</td>\n",
       "      <td>male</td>\n",
       "      <td>35.0</td>\n",
       "      <td>0</td>\n",
       "      <td>0</td>\n",
       "      <td>373450</td>\n",
       "      <td>8.0500</td>\n",
       "      <td>NaN</td>\n",
       "      <td>S</td>\n",
       "    </tr>\n",
       "  </tbody>\n",
       "</table>\n",
       "</div>"
      ],
      "text/plain": [
       "   PassengerId  Survived  Pclass  \\\n",
       "0            1         0       3   \n",
       "1            2         1       1   \n",
       "2            3         1       3   \n",
       "3            4         1       1   \n",
       "4            5         0       3   \n",
       "\n",
       "                                                Name     Sex   Age  SibSp  \\\n",
       "0                            Braund, Mr. Owen Harris    male  22.0      1   \n",
       "1  Cumings, Mrs. John Bradley (Florence Briggs Th...  female  38.0      1   \n",
       "2                             Heikkinen, Miss. Laina  female  26.0      0   \n",
       "3       Futrelle, Mrs. Jacques Heath (Lily May Peel)  female  35.0      1   \n",
       "4                           Allen, Mr. William Henry    male  35.0      0   \n",
       "\n",
       "   Parch            Ticket     Fare Cabin Embarked  \n",
       "0      0         A/5 21171   7.2500   NaN        S  \n",
       "1      0          PC 17599  71.2833   C85        C  \n",
       "2      0  STON/O2. 3101282   7.9250   NaN        S  \n",
       "3      0            113803  53.1000  C123        S  \n",
       "4      0            373450   8.0500   NaN        S  "
      ]
     },
     "execution_count": 2,
     "metadata": {},
     "output_type": "execute_result"
    }
   ],
   "source": [
    "# Reading and Displaying the dataset\n",
    "df = pd.read_csv('titanic.csv')\n",
    "df.head()"
   ]
  },
  {
   "cell_type": "markdown",
   "id": "61836190-a95a-45ad-b915-9861d5a6e700",
   "metadata": {},
   "source": [
    "## Handling Missing Values"
   ]
  },
  {
   "cell_type": "markdown",
   "id": "fab9578d-79b1-4bcb-a8e5-177417135fb1",
   "metadata": {},
   "source": [
    "- Visualizing Null Values"
   ]
  },
  {
   "cell_type": "code",
   "execution_count": 3,
   "id": "2efee135-f412-4808-8980-a2b7c90f9804",
   "metadata": {},
   "outputs": [
    {
     "data": {
      "image/png": "[encoded data removed]",
      "text/plain": [
       "<Figure size 640x480 with 2 Axes>"
      ]
     },
     "metadata": {},
     "output_type": "display_data"
    }
   ],
   "source": [
    "# Visualizing the Null values by Heatmap\n",
    "\n",
    "sns.heatmap(df.isnull())\n",
    "plt.show()"
   ]
  },
  {
   "cell_type": "markdown",
   "id": "0ceb6cb3-4a4f-42d1-bb84-302e27790767",
   "metadata": {},
   "source": [
    "- Count of Null Values"
   ]
  },
  {
   "cell_type": "code",
   "execution_count": 4,
   "id": "cf0b0f0f-346f-435f-b557-31594322318a",
   "metadata": {},
   "outputs": [
    {
     "name": "stdout",
     "output_type": "stream",
     "text": [
      "Age : 177    i.e. 0.1987% of the data.\n",
      "Cabin : 687    i.e. 0.771% of the data.\n",
      "Embarked : 2    i.e. 0.0022% of the data.\n"
     ]
    }
   ],
   "source": [
    "# Getting the details of Null values\n",
    "\n",
    "for col in df.columns:\n",
    "    if df[col].isnull().sum() > 0:\n",
    "        print(f\"{col} : {df[col].isnull().sum()}    i.e. {round(df[col].isnull().mean(),4)}% of the data.\")"
   ]
  },
  {
   "cell_type": "markdown",
   "id": "bc76c40d-f5f3-46c1-bd9f-29a03daa5104",
   "metadata": {},
   "source": [
    "- Handling Null values - ***Embarked***\n",
    "\n",
    "As there a very less count of Null values in *Embarked* so, I would consider to drop it."
   ]
  },
  {
   "cell_type": "code",
   "execution_count": 5,
   "id": "e80699bb-16de-4162-863f-7659f2afb0ea",
   "metadata": {},
   "outputs": [
    {
     "data": {
      "text/html": [
       "<div>\n",
       "<style scoped>\n",
       "    .dataframe tbody tr th:only-of-type {\n",
       "        vertical-align: middle;\n",
       "    }\n",
       "\n",
       "    .dataframe tbody tr th {\n",
       "        vertical-align: top;\n",
       "    }\n",
       "\n",
       "    .dataframe thead th {\n",
       "        text-align: right;\n",
       "    }\n",
       "</style>\n",
       "<table border=\"1\" class=\"dataframe\">\n",
       "  <thead>\n",
       "    <tr style=\"text-align: right;\">\n",
       "      <th></th>\n",
       "      <th>PassengerId</th>\n",
       "      <th>Survived</th>\n",
       "      <th>Pclass</th>\n",
       "      <th>Name</th>\n",
       "      <th>Sex</th>\n",
       "      <th>Age</th>\n",
       "      <th>SibSp</th>\n",
       "      <th>Parch</th>\n",
       "      <th>Ticket</th>\n",
       "      <th>Fare</th>\n",
       "      <th>Cabin</th>\n",
       "      <th>Embarked</th>\n",
       "    </tr>\n",
       "  </thead>\n",
       "  <tbody>\n",
       "    <tr>\n",
       "      <th>61</th>\n",
       "      <td>62</td>\n",
       "      <td>1</td>\n",
       "      <td>1</td>\n",
       "      <td>Icard, Miss. Amelie</td>\n",
       "      <td>female</td>\n",
       "      <td>38.0</td>\n",
       "      <td>0</td>\n",
       "      <td>0</td>\n",
       "      <td>113572</td>\n",
       "      <td>80.0</td>\n",
       "      <td>B28</td>\n",
       "      <td>NaN</td>\n",
       "    </tr>\n",
       "    <tr>\n",
       "      <th>829</th>\n",
       "      <td>830</td>\n",
       "      <td>1</td>\n",
       "      <td>1</td>\n",
       "      <td>Stone, Mrs. George Nelson (Martha Evelyn)</td>\n",
       "      <td>female</td>\n",
       "      <td>62.0</td>\n",
       "      <td>0</td>\n",
       "      <td>0</td>\n",
       "      <td>113572</td>\n",
       "      <td>80.0</td>\n",
       "      <td>B28</td>\n",
       "      <td>NaN</td>\n",
       "    </tr>\n",
       "  </tbody>\n",
       "</table>\n",
       "</div>"
      ],
      "text/plain": [
       "     PassengerId  Survived  Pclass                                       Name  \\\n",
       "61            62         1       1                        Icard, Miss. Amelie   \n",
       "829          830         1       1  Stone, Mrs. George Nelson (Martha Evelyn)   \n",
       "\n",
       "        Sex   Age  SibSp  Parch  Ticket  Fare Cabin Embarked  \n",
       "61   female  38.0      0      0  113572  80.0   B28      NaN  \n",
       "829  female  62.0      0      0  113572  80.0   B28      NaN  "
      ]
     },
     "execution_count": 5,
     "metadata": {},
     "output_type": "execute_result"
    }
   ],
   "source": [
    "# getting the exact Null Values for Embarked feature\n",
    "\n",
    "df[df.Embarked.isnull()]"
   ]
  },
  {
   "cell_type": "code",
   "execution_count": 6,
   "id": "ce842c4e-5bf6-45f1-904e-43dbd2371054",
   "metadata": {},
   "outputs": [],
   "source": [
    "# Dropping the Null Values\n",
    "\n",
    "df.dropna(subset= 'Embarked',inplace=True)\n",
    "df."
   ]
  },
  {
   "cell_type": "markdown",
   "id": "769f19ef-366b-4d85-b5e4-672b73bba47e",
   "metadata": {},
   "source": [
    "- Handling Null values - ***Cabin***\n",
    "\n",
    "  In *Cabin*, we have categorical features so, I would replace the Null values by a new value i.e. *Unknown*"
   ]
  },
  {
   "cell_type": "code",
   "execution_count": 7,
   "id": "3fe5abaf-223a-4293-8960-b793f805634c",
   "metadata": {},
   "outputs": [],
   "source": [
    "# Replacing the Null values of Cabin feature by Unknown\n",
    "\n",
    "df['Cabin'].fillna('Unknown',inplace=True)"
   ]
  },
  {
   "cell_type": "markdown",
   "id": "cc507b23-79c7-480a-8bb5-5ce9eaa7df59",
   "metadata": {},
   "source": [
    "- Handling Null values - ***Age***\n",
    "\n",
    "  In *Age*, we have observed that the age of Passengers are following some pattern w.r.t. Passenger Class (Pclass). So, I would like to replace the Null values w.r.t. Pclass."
   ]
  },
  {
   "cell_type": "code",
   "execution_count": 8,
   "id": "0b03d308-f5ff-4f31-83a8-265b7cb28019",
   "metadata": {},
   "outputs": [
    {
     "data": {
      "image/png": "[encoded data removed]",
      "text/plain": [
       "<Figure size 640x480 with 1 Axes>"
      ]
     },
     "metadata": {},
     "output_type": "display_data"
    }
   ],
   "source": [
    "# Ploting a boxplot between Age and Pclass\n",
    "\n",
    "plt.title(\"Boxplot of Age w.r.t. Pclass\")\n",
    "sns.boxplot(x='Pclass',y='Age',data=df)\n",
    "plt.show()"
   ]
  },
  {
   "cell_type": "code",
   "execution_count": 9,
   "id": "b6df571b-6bae-4344-96d6-09fad1c0d9c4",
   "metadata": {},
   "outputs": [
    {
     "data": {
      "text/html": [
       "<div>\n",
       "<style scoped>\n",
       "    .dataframe tbody tr th:only-of-type {\n",
       "        vertical-align: middle;\n",
       "    }\n",
       "\n",
       "    .dataframe tbody tr th {\n",
       "        vertical-align: top;\n",
       "    }\n",
       "\n",
       "    .dataframe thead th {\n",
       "        text-align: right;\n",
       "    }\n",
       "</style>\n",
       "<table border=\"1\" class=\"dataframe\">\n",
       "  <thead>\n",
       "    <tr style=\"text-align: right;\">\n",
       "      <th></th>\n",
       "      <th>PassengerId</th>\n",
       "      <th>Survived</th>\n",
       "      <th>Pclass</th>\n",
       "      <th>Name</th>\n",
       "      <th>Sex</th>\n",
       "      <th>Age</th>\n",
       "      <th>SibSp</th>\n",
       "      <th>Parch</th>\n",
       "      <th>Ticket</th>\n",
       "      <th>Fare</th>\n",
       "      <th>Cabin</th>\n",
       "      <th>Embarked</th>\n",
       "    </tr>\n",
       "  </thead>\n",
       "  <tbody>\n",
       "    <tr>\n",
       "      <th>0</th>\n",
       "      <td>1</td>\n",
       "      <td>0</td>\n",
       "      <td>3</td>\n",
       "      <td>Braund, Mr. Owen Harris</td>\n",
       "      <td>male</td>\n",
       "      <td>22.0</td>\n",
       "      <td>1</td>\n",
       "      <td>0</td>\n",
       "      <td>A/5 21171</td>\n",
       "      <td>7.2500</td>\n",
       "      <td>Unknown</td>\n",
       "      <td>S</td>\n",
       "    </tr>\n",
       "    <tr>\n",
       "      <th>1</th>\n",
       "      <td>2</td>\n",
       "      <td>1</td>\n",
       "      <td>1</td>\n",
       "      <td>Cumings, Mrs. John Bradley (Florence Briggs Th...</td>\n",
       "      <td>female</td>\n",
       "      <td>38.0</td>\n",
       "      <td>1</td>\n",
       "      <td>0</td>\n",
       "      <td>PC 17599</td>\n",
       "      <td>71.2833</td>\n",
       "      <td>C85</td>\n",
       "      <td>C</td>\n",
       "    </tr>\n",
       "    <tr>\n",
       "      <th>2</th>\n",
       "      <td>3</td>\n",
       "      <td>1</td>\n",
       "      <td>3</td>\n",
       "      <td>Heikkinen, Miss. Laina</td>\n",
       "      <td>female</td>\n",
       "      <td>26.0</td>\n",
       "      <td>0</td>\n",
       "      <td>0</td>\n",
       "      <td>STON/O2. 3101282</td>\n",
       "      <td>7.9250</td>\n",
       "      <td>Unknown</td>\n",
       "      <td>S</td>\n",
       "    </tr>\n",
       "    <tr>\n",
       "      <th>3</th>\n",
       "      <td>4</td>\n",
       "      <td>1</td>\n",
       "      <td>1</td>\n",
       "      <td>Futrelle, Mrs. Jacques Heath (Lily May Peel)</td>\n",
       "      <td>female</td>\n",
       "      <td>35.0</td>\n",
       "      <td>1</td>\n",
       "      <td>0</td>\n",
       "      <td>113803</td>\n",
       "      <td>53.1000</td>\n",
       "      <td>C123</td>\n",
       "      <td>S</td>\n",
       "    </tr>\n",
       "    <tr>\n",
       "      <th>4</th>\n",
       "      <td>5</td>\n",
       "      <td>0</td>\n",
       "      <td>3</td>\n",
       "      <td>Allen, Mr. William Henry</td>\n",
       "      <td>male</td>\n",
       "      <td>35.0</td>\n",
       "      <td>0</td>\n",
       "      <td>0</td>\n",
       "      <td>373450</td>\n",
       "      <td>8.0500</td>\n",
       "      <td>Unknown</td>\n",
       "      <td>S</td>\n",
       "    </tr>\n",
       "  </tbody>\n",
       "</table>\n",
       "</div>"
      ],
      "text/plain": [
       "   PassengerId  Survived  Pclass  \\\n",
       "0            1         0       3   \n",
       "1            2         1       1   \n",
       "2            3         1       3   \n",
       "3            4         1       1   \n",
       "4            5         0       3   \n",
       "\n",
       "                                                Name     Sex   Age  SibSp  \\\n",
       "0                            Braund, Mr. Owen Harris    male  22.0      1   \n",
       "1  Cumings, Mrs. John Bradley (Florence Briggs Th...  female  38.0      1   \n",
       "2                             Heikkinen, Miss. Laina  female  26.0      0   \n",
       "3       Futrelle, Mrs. Jacques Heath (Lily May Peel)  female  35.0      1   \n",
       "4                           Allen, Mr. William Henry    male  35.0      0   \n",
       "\n",
       "   Parch            Ticket     Fare    Cabin Embarked  \n",
       "0      0         A/5 21171   7.2500  Unknown        S  \n",
       "1      0          PC 17599  71.2833      C85        C  \n",
       "2      0  STON/O2. 3101282   7.9250  Unknown        S  \n",
       "3      0            113803  53.1000     C123        S  \n",
       "4      0            373450   8.0500  Unknown        S  "
      ]
     },
     "execution_count": 9,
     "metadata": {},
     "output_type": "execute_result"
    }
   ],
   "source": [
    "# Replacing null values w.r.t. Pclass\n",
    "\n",
    "# Function to replace Null values w.r.t. Pclass\n",
    "def impute_age(cols):\n",
    "    Age = cols[0]\n",
    "    Pclass = cols[1]\n",
    "\n",
    "    if pd.isnull(Age):\n",
    "        if Pclass == 1:\n",
    "            return df[df['Pclass'] == 1]['Age'].median()\n",
    "        elif Pclass == 2:\n",
    "            return df[df['Pclass'] == 2]['Age'].median()\n",
    "        else:\n",
    "            return df[df['Pclass'] == 3]['Age'].median()\n",
    "    return Age\n",
    "\n",
    "# Calling function\n",
    "df['Age'] = df[['Age','Pclass']].apply(impute_age,axis=1)\n",
    "df.head()"
   ]
  },
  {
   "cell_type": "markdown",
   "id": "d1aa338a-ff6a-4852-bc02-5f1237b1310d",
   "metadata": {},
   "source": [
    "Now, We have handled all of the Null values in our Dataset."
   ]
  },
  {
   "cell_type": "code",
   "execution_count": 10,
   "id": "87c21b58-cc30-45ac-ba2c-5809fa29031d",
   "metadata": {},
   "outputs": [
    {
     "data": {
      "text/plain": [
       "PassengerId    0\n",
       "Survived       0\n",
       "Pclass         0\n",
       "Name           0\n",
       "Sex            0\n",
       "Age            0\n",
       "SibSp          0\n",
       "Parch          0\n",
       "Ticket         0\n",
       "Fare           0\n",
       "Cabin          0\n",
       "Embarked       0\n",
       "dtype: int64"
      ]
     },
     "execution_count": 10,
     "metadata": {},
     "output_type": "execute_result"
    }
   ],
   "source": [
    "# Checking Null values\n",
    "\n",
    "df.isnull().sum()"
   ]
  },
  {
   "cell_type": "markdown",
   "id": "83ae3dfc-5362-4028-bdfa-9d3b4abfb3b7",
   "metadata": {},
   "source": [
    "## Handling Outliers"
   ]
  },
  {
   "cell_type": "markdown",
   "id": "8e31bfae-2247-4f55-b25a-ab71665d9477",
   "metadata": {},
   "source": [
    "- Visualizing Outliers\n",
    "\n",
    "  1. Plotting Boxplot to Check the Outliers present in the data.\n",
    "  2. Plotting Distplot to visualize the distribution of data in the particular feature"
   ]
  },
  {
   "cell_type": "code",
   "execution_count": 11,
   "id": "40cd1b99-6e5d-43c9-93c4-1d35616f77c7",
   "metadata": {},
   "outputs": [
    {
     "data": {
      "image/png": "[encoded data removed]",
      "text/plain": [
       "<Figure size 1000x600 with 4 Axes>"
      ]
     },
     "metadata": {},
     "output_type": "display_data"
    }
   ],
   "source": [
    "# Plotting Boxplot & Distplot\n",
    "plt.figure(figsize=(10,6))\n",
    "\n",
    "plt.subplot(2,2,1)\n",
    "plt.title(f\"Boxplot for Fare\")\n",
    "sns.boxplot(df['Fare'])\n",
    "\n",
    "plt.subplot(2,2,2)\n",
    "plt.title(f\"Distplot for Fare\")\n",
    "sns.distplot(df['Fare'])\n",
    "\n",
    "plt.subplot(2,2,3)\n",
    "plt.title(f\"Boxplot for Age\")\n",
    "sns.boxplot(df['Age'])\n",
    "\n",
    "plt.subplot(2,2,4)\n",
    "plt.title(f\"Distplot for Age\")\n",
    "sns.distplot(df['Age'])\n",
    "\n",
    "plt.tight_layout()\n",
    "plt.show()\n"
   ]
  },
  {
   "cell_type": "markdown",
   "id": "d0581058-090c-4550-a1b1-b6c54898f1f1",
   "metadata": {},
   "source": [
    "- Detecting and Replacing the Outliers - ***Fare***\n",
    "\n",
    "  As we can see, there is a Right Skewed distribution in *Fare* feature. So, I would like to go with Inter Quantile Range (IQR) method to replace the outliers by Upper Bridge or Lower Bridge values."
   ]
  },
  {
   "cell_type": "code",
   "execution_count": 12,
   "id": "e3c2973d-def7-4f5e-b82d-87b2e2b5567c",
   "metadata": {},
   "outputs": [
    {
     "name": "stdout",
     "output_type": "stream",
     "text": [
      "Q1  : 7.8958\n",
      "Q3  : 31.0\n",
      "IQR : 23.1042\n"
     ]
    }
   ],
   "source": [
    "# Getting IQR  for Fare\n",
    "\n",
    "Q1 = df.Fare.quantile(0.25)\n",
    "Q3 = df.Fare.quantile(0.75)\n",
    "IQR = Q3 - Q1\n",
    "# Printing Quantiles values\n",
    "print(f'Q1  : {Q1}')\n",
    "print(f'Q3  : {Q3}')\n",
    "print(f'IQR : {IQR}')"
   ]
  },
  {
   "cell_type": "code",
   "execution_count": 13,
   "id": "3a9009e4-6e5a-4926-8b6f-570b7a50e199",
   "metadata": {},
   "outputs": [
    {
     "name": "stdout",
     "output_type": "stream",
     "text": [
      "Upper Bridge : 65.6563\n",
      "Lower Bridge : -26.7605\n"
     ]
    }
   ],
   "source": [
    "# Creating Upper & Lower Bridge for Outliers\n",
    "\n",
    "upper_bridge = Q3 + (1.5*IQR)\n",
    "lower_bridge = Q1 - (1.5*IQR)\n",
    "print(f'Upper Bridge : {upper_bridge}')\n",
    "print(f'Lower Bridge : {lower_bridge}')"
   ]
  },
  {
   "cell_type": "code",
   "execution_count": 14,
   "id": "54e17b07-93e3-4f4b-81b5-76b52d382be9",
   "metadata": {},
   "outputs": [
    {
     "name": "stdout",
     "output_type": "stream",
     "text": [
      "Total Outliers in Fare : 114\n"
     ]
    }
   ],
   "source": [
    "# Detecting Outliers\n",
    "\n",
    "Outliers = df[(df.Fare > upper_bridge) | (df.Fare < lower_bridge)]\n",
    "print(f\"Total Outliers in Fare : {Outliers.shape[0]}\")"
   ]
  },
  {
   "cell_type": "code",
   "execution_count": 15,
   "id": "230463dc-36bf-4231-ab2c-75cc6f7f4a9e",
   "metadata": {},
   "outputs": [],
   "source": [
    "# Replacing the Outliers by Upper & Lower Bridge Values\n",
    "\n",
    "df['Fare'] = np.where(df['Fare'] > upper_bridge,upper_bridge,np.where(df['Fare'] < lower_bridge,lower_bridge,df['Fare']))"
   ]
  },
  {
   "cell_type": "markdown",
   "id": "c101bfed-9751-4ee1-b457-5024ad058fb9",
   "metadata": {},
   "source": [
    "- Detecting and Replacing the Outliers - ***Age***\n",
    "\n",
    "  As we can see, there is a Normal distribution in *Age* feature. So, I would like to go with Standard Deviation (Std) method to replace the outliers by Upper Bound or Lower Bound values."
   ]
  },
  {
   "cell_type": "code",
   "execution_count": 16,
   "id": "34d23942-32d1-44af-b444-4e53ba40db6b",
   "metadata": {},
   "outputs": [
    {
     "name": "stdout",
     "output_type": "stream",
     "text": [
      "Std Dev : 13.209814246765708\n",
      "-----------------------------\n",
      "Upper Bound : 68.64875657606765\n",
      "Mean        : 29.019313835770525\n",
      "Lower Bound : -10.610128904526597\n"
     ]
    }
   ],
   "source": [
    "# Calculating Upper and Lower Bound\n",
    "\n",
    "std = df.Age.std()\n",
    "mean = df.Age.mean()\n",
    "upper_bound = mean + 3*std\n",
    "lower_bound = mean - 3*std\n",
    "\n",
    "print(f'Std Dev : {std}')\n",
    "print('-----------------------------')\n",
    "print(f'Upper Bound : {upper_bound}')\n",
    "print(f'Mean        : {mean}')\n",
    "print(f'Lower Bound : {lower_bound}')"
   ]
  },
  {
   "cell_type": "code",
   "execution_count": 17,
   "id": "7a35cd6f-86ad-4e0c-b4c2-a504850d4832",
   "metadata": {},
   "outputs": [
    {
     "name": "stdout",
     "output_type": "stream",
     "text": [
      "Total Outliers in Age : 7\n"
     ]
    }
   ],
   "source": [
    "# Detecting Outliers\n",
    "\n",
    "Outliers = df[(df['Age']>upper_bound) | (df['Age']<lower_bound)]\n",
    "print(f\"Total Outliers in Age : {Outliers.shape[0]}\")"
   ]
  },
  {
   "cell_type": "code",
   "execution_count": 18,
   "id": "d9e2d491-a1e2-4e57-b57e-c40b5b6a61af",
   "metadata": {},
   "outputs": [],
   "source": [
    "# Replacing all the outliers with upper and lower bound\n",
    "\n",
    "df['Age'] = np.where(df['Age'] > upper_bound,68,df['Age'])"
   ]
  },
  {
   "cell_type": "markdown",
   "id": "3816bb91-78c9-4f45-95c1-a64a286ed912",
   "metadata": {},
   "source": [
    "Now, We have handled all of the Outliers values in our Dataset."
   ]
  },
  {
   "cell_type": "code",
   "execution_count": 19,
   "id": "3338ef58-389a-4452-b6bd-f82f3ee146ae",
   "metadata": {},
   "outputs": [
    {
     "name": "stdout",
     "output_type": "stream",
     "text": [
      "Total Outliers in Fare : 0\n",
      "Total Outliers in Age : 0\n"
     ]
    }
   ],
   "source": [
    "# Detecting Outliers in Fare\n",
    "Outliers = df[(df.Fare > upper_bridge) | (df.Fare < lower_bridge)]\n",
    "print(f\"Total Outliers in Fare : {Outliers.shape[0]}\")\n",
    "\n",
    "# Detecting Outliers in Age\n",
    "Outliers = df[(df['Age']>upper_bound) | (df['Age']<lower_bound)]\n",
    "print(f\"Total Outliers in Age : {Outliers.shape[0]}\")"
   ]
  },
  {
   "cell_type": "code",
   "execution_count": 20,
   "id": "e5a21214-96ee-4800-a868-e58f05658fe9",
   "metadata": {},
   "outputs": [
    {
     "data": {
      "text/plain": [
       "0"
      ]
     },
     "execution_count": 20,
     "metadata": {},
     "output_type": "execute_result"
    }
   ],
   "source": [
    "df.duplicated().sum()"
   ]
  },
  {
   "cell_type": "code",
   "execution_count": 21,
   "id": "c173b0f4-c2b7-44a2-acd6-8ed47c18294b",
   "metadata": {},
   "outputs": [
    {
     "data": {
      "text/plain": [
       "(889, 12)"
      ]
     },
     "execution_count": 21,
     "metadata": {},
     "output_type": "execute_result"
    }
   ],
   "source": [
    "df.shape"
   ]
  },
  {
   "cell_type": "code",
   "execution_count": null,
   "id": "8ffc282b-1b60-455d-8755-86335d0a543f",
   "metadata": {},
   "outputs": [],
   "source": []
  },
  {
   "cell_type": "code",
   "execution_count": null,
   "id": "cfe90bc9-02ba-4465-afa6-bd53f90067bc",
   "metadata": {},
   "outputs": [],
   "source": []
  },
  {
   "cell_type": "code",
   "execution_count": null,
   "id": "ebefb7ae-95ac-4d12-b798-00f8e009e01e",
   "metadata": {},
   "outputs": [],
   "source": []
  },
  {
   "cell_type": "code",
   "execution_count": 22,
   "id": "92769d57-9327-489c-8083-6cc13ad0531f",
   "metadata": {},
   "outputs": [],
   "source": [
    "df.to_csv('Titanic_Cleaned_Dataset.csv',index=False)"
   ]
  },
  {
   "cell_type": "code",
   "execution_count": null,
   "id": "9c19d2e1-ccd1-473d-881d-32107a6eec60",
   "metadata": {},
   "outputs": [],
   "source": []
  }
 ],
 "metadata": {
  "kernelspec": {
   "display_name": "Python 3 (ipykernel)",
   "language": "python",
   "name": "python3"
  },
  "language_info": {
   "codemirror_mode": {
    "name": "ipython",
    "version": 3
   },
   "file_extension": ".py",
   "mimetype": "text/x-python",
   "name": "python",
   "nbconvert_exporter": "python",
   "pygments_lexer": "ipython3",
   "version": "3.11.7"
  }
 },
 "nbformat": 4,
 "nbformat_minor": 5
}
